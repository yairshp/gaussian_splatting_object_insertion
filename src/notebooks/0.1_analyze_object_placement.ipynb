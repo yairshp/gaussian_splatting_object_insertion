{
 "cells": [
  {
   "cell_type": "code",
   "execution_count": 1,
   "metadata": {},
   "outputs": [],
   "source": [
    "import os\n",
    "\n",
    "os.environ[\"CUDA_VISIBLE_DEVICES\"] = \"7\""
   ]
  },
  {
   "cell_type": "code",
   "execution_count": 2,
   "metadata": {},
   "outputs": [
    {
     "name": "stderr",
     "output_type": "stream",
     "text": [
      "/root/miniconda3/envs/gaussian-editor/lib/python3.8/site-packages/tqdm/auto.py:21: TqdmWarning: IProgress not found. Please update jupyter and ipywidgets. See https://ipywidgets.readthedocs.io/en/stable/user_install.html\n",
      "  from .autonotebook import tqdm as notebook_tqdm\n"
     ]
    }
   ],
   "source": [
    "import yaml\n",
    "import torch\n",
    "from torch.nn.functional import mse_loss\n",
    "from torchvision.transforms.functional import to_pil_image, to_tensor\n",
    "from diffusers import AutoencoderKL, StableDiffusionImg2ImgPipeline\n",
    "from PIL import Image"
   ]
  },
  {
   "cell_type": "code",
   "execution_count": 3,
   "metadata": {},
   "outputs": [
    {
     "name": "stderr",
     "output_type": "stream",
     "text": [
      "Loading pipeline components...: 100%|██████████| 6/6 [00:04<00:00,  1.41it/s]\n"
     ]
    }
   ],
   "source": [
    "model_id = \"stabilityai/stable-diffusion-2-1\"\n",
    "diffusion_pipeline = StableDiffusionImg2ImgPipeline.from_pretrained(model_id, torch_dtype=torch.float16).to(\"cuda\")"
   ]
  },
  {
   "cell_type": "code",
   "execution_count": 4,
   "metadata": {},
   "outputs": [],
   "source": [
    "# get list of all images in src/outputs folder\n",
    "images = [Image.open(f\"outputs/{f}\") for f in os.listdir(\"outputs\") if f.endswith(\".png\")]"
   ]
  },
  {
   "cell_type": "code",
   "execution_count": null,
   "metadata": {},
   "outputs": [],
   "source": [
    "img = images[0]"
   ]
  },
  {
   "cell_type": "code",
   "execution_count": 5,
   "metadata": {},
   "outputs": [
    {
     "name": "stderr",
     "output_type": "stream",
     "text": [
      "100%|██████████| 25/25 [00:05<00:00,  4.63it/s]\n",
      "100%|██████████| 25/25 [00:05<00:00,  4.70it/s]\n",
      "100%|██████████| 25/25 [00:05<00:00,  4.65it/s]\n",
      "100%|██████████| 25/25 [00:05<00:00,  4.69it/s]\n",
      "100%|██████████| 25/25 [00:05<00:00,  4.64it/s]\n",
      "100%|██████████| 25/25 [00:05<00:00,  4.68it/s]\n",
      "100%|██████████| 25/25 [00:05<00:00,  4.64it/s]\n",
      "100%|██████████| 25/25 [00:05<00:00,  4.67it/s]\n",
      "100%|██████████| 25/25 [00:05<00:00,  4.67it/s]\n",
      "100%|██████████| 25/25 [00:05<00:00,  4.68it/s]\n",
      "100%|██████████| 25/25 [00:05<00:00,  4.65it/s]\n",
      "100%|██████████| 25/25 [00:05<00:00,  4.66it/s]\n",
      "100%|██████████| 25/25 [00:05<00:00,  4.60it/s]\n",
      "100%|██████████| 25/25 [00:05<00:00,  4.61it/s]\n",
      "100%|██████████| 25/25 [00:05<00:00,  4.65it/s]\n",
      "100%|██████████| 25/25 [00:05<00:00,  4.67it/s]\n",
      "100%|██████████| 25/25 [00:05<00:00,  4.65it/s]\n",
      "100%|██████████| 25/25 [00:05<00:00,  4.62it/s]\n",
      "100%|██████████| 25/25 [00:05<00:00,  4.64it/s]\n",
      "100%|██████████| 25/25 [00:05<00:00,  4.61it/s]\n",
      "100%|██████████| 25/25 [00:05<00:00,  4.61it/s]\n",
      "100%|██████████| 25/25 [00:05<00:00,  4.65it/s]\n",
      "100%|██████████| 25/25 [00:05<00:00,  4.64it/s]\n",
      "100%|██████████| 25/25 [00:05<00:00,  4.63it/s]\n",
      "100%|██████████| 25/25 [00:05<00:00,  4.64it/s]\n",
      "100%|██████████| 25/25 [00:05<00:00,  4.63it/s]\n",
      "100%|██████████| 25/25 [00:05<00:00,  4.65it/s]\n",
      "100%|██████████| 25/25 [00:05<00:00,  4.63it/s]\n",
      "100%|██████████| 25/25 [00:05<00:00,  4.63it/s]\n",
      "100%|██████████| 25/25 [00:05<00:00,  4.65it/s]\n",
      "100%|██████████| 25/25 [00:05<00:00,  4.66it/s]\n",
      "100%|██████████| 25/25 [00:05<00:00,  4.63it/s]\n",
      "100%|██████████| 25/25 [00:05<00:00,  4.67it/s]\n",
      "100%|██████████| 25/25 [00:05<00:00,  4.64it/s]\n",
      "100%|██████████| 25/25 [00:05<00:00,  4.68it/s]\n",
      "100%|██████████| 25/25 [00:05<00:00,  4.70it/s]\n",
      "100%|██████████| 25/25 [00:05<00:00,  4.71it/s]\n",
      "100%|██████████| 25/25 [00:05<00:00,  4.71it/s]\n",
      "100%|██████████| 25/25 [00:05<00:00,  4.71it/s]\n",
      "100%|██████████| 25/25 [00:05<00:00,  4.72it/s]\n",
      "100%|██████████| 25/25 [00:05<00:00,  4.72it/s]\n",
      "100%|██████████| 25/25 [00:05<00:00,  4.69it/s]\n",
      "100%|██████████| 25/25 [00:05<00:00,  4.51it/s]\n",
      "100%|██████████| 25/25 [00:05<00:00,  4.70it/s]\n",
      "100%|██████████| 25/25 [00:05<00:00,  4.71it/s]\n",
      "100%|██████████| 25/25 [00:05<00:00,  4.69it/s]\n",
      "100%|██████████| 25/25 [00:05<00:00,  4.68it/s]\n",
      "100%|██████████| 25/25 [00:05<00:00,  4.68it/s]\n",
      "100%|██████████| 25/25 [00:05<00:00,  4.70it/s]\n",
      "100%|██████████| 25/25 [00:05<00:00,  4.71it/s]\n",
      "100%|██████████| 25/25 [00:05<00:00,  4.69it/s]\n",
      "100%|██████████| 25/25 [00:05<00:00,  4.69it/s]\n",
      "100%|██████████| 25/25 [00:05<00:00,  4.61it/s]\n",
      "100%|██████████| 25/25 [00:05<00:00,  4.64it/s]\n",
      "100%|██████████| 25/25 [00:05<00:00,  4.64it/s]\n",
      "100%|██████████| 25/25 [00:05<00:00,  4.62it/s]\n",
      "100%|██████████| 25/25 [00:05<00:00,  4.64it/s]\n",
      "100%|██████████| 25/25 [00:05<00:00,  4.65it/s]\n",
      "100%|██████████| 25/25 [00:05<00:00,  4.62it/s]\n",
      "100%|██████████| 25/25 [00:05<00:00,  4.62it/s]\n",
      "100%|██████████| 25/25 [00:05<00:00,  4.62it/s]\n",
      "100%|██████████| 25/25 [00:05<00:00,  4.64it/s]\n",
      "100%|██████████| 25/25 [00:05<00:00,  4.63it/s]\n",
      "100%|██████████| 25/25 [00:05<00:00,  4.60it/s]\n",
      "100%|██████████| 25/25 [00:05<00:00,  4.62it/s]\n",
      "100%|██████████| 25/25 [00:05<00:00,  4.60it/s]\n",
      "100%|██████████| 25/25 [00:05<00:00,  4.62it/s]\n",
      "100%|██████████| 25/25 [00:05<00:00,  4.62it/s]\n",
      "100%|██████████| 25/25 [00:05<00:00,  4.61it/s]\n",
      "100%|██████████| 25/25 [00:05<00:00,  4.61it/s]\n",
      "100%|██████████| 25/25 [00:05<00:00,  4.62it/s]\n",
      "100%|██████████| 25/25 [00:05<00:00,  4.62it/s]\n",
      "100%|██████████| 25/25 [00:05<00:00,  4.66it/s]\n",
      "100%|██████████| 25/25 [00:05<00:00,  4.61it/s]\n",
      "100%|██████████| 25/25 [00:05<00:00,  4.61it/s]\n",
      "100%|██████████| 25/25 [00:05<00:00,  4.65it/s]\n",
      "100%|██████████| 25/25 [00:05<00:00,  4.61it/s]\n",
      "100%|██████████| 25/25 [00:05<00:00,  4.64it/s]\n",
      "100%|██████████| 25/25 [00:05<00:00,  4.65it/s]\n",
      "100%|██████████| 25/25 [00:05<00:00,  4.64it/s]\n",
      "100%|██████████| 25/25 [00:05<00:00,  4.66it/s]\n",
      "100%|██████████| 25/25 [00:05<00:00,  4.57it/s]\n",
      "100%|██████████| 25/25 [00:05<00:00,  4.62it/s]\n",
      "100%|██████████| 25/25 [00:05<00:00,  4.63it/s]\n",
      "100%|██████████| 25/25 [00:05<00:00,  4.61it/s]\n",
      "100%|██████████| 25/25 [00:05<00:00,  4.63it/s]\n",
      "100%|██████████| 25/25 [00:05<00:00,  4.60it/s]\n",
      "100%|██████████| 25/25 [00:05<00:00,  4.62it/s]\n",
      "100%|██████████| 25/25 [00:05<00:00,  4.63it/s]\n",
      "100%|██████████| 25/25 [00:05<00:00,  4.65it/s]\n",
      "100%|██████████| 25/25 [00:05<00:00,  4.60it/s]\n",
      "100%|██████████| 25/25 [00:05<00:00,  4.63it/s]\n",
      "100%|██████████| 25/25 [00:05<00:00,  4.67it/s]\n",
      "100%|██████████| 25/25 [00:05<00:00,  4.63it/s]\n",
      "100%|██████████| 25/25 [00:05<00:00,  4.67it/s]\n",
      "100%|██████████| 25/25 [00:05<00:00,  4.71it/s]\n",
      "100%|██████████| 25/25 [00:05<00:00,  4.73it/s]\n",
      "100%|██████████| 25/25 [00:05<00:00,  4.72it/s]\n",
      "100%|██████████| 25/25 [00:05<00:00,  4.73it/s]\n",
      "100%|██████████| 25/25 [00:05<00:00,  4.72it/s]\n",
      "100%|██████████| 25/25 [00:05<00:00,  4.70it/s]\n",
      "100%|██████████| 25/25 [00:05<00:00,  4.55it/s]\n",
      "100%|██████████| 25/25 [00:05<00:00,  4.67it/s]\n",
      "100%|██████████| 25/25 [00:05<00:00,  4.68it/s]\n",
      "100%|██████████| 25/25 [00:05<00:00,  4.70it/s]\n",
      "100%|██████████| 25/25 [00:05<00:00,  4.62it/s]\n",
      "100%|██████████| 25/25 [00:05<00:00,  4.64it/s]\n",
      "100%|██████████| 25/25 [00:05<00:00,  4.64it/s]\n",
      "100%|██████████| 25/25 [00:05<00:00,  4.64it/s]\n",
      "100%|██████████| 25/25 [00:05<00:00,  4.64it/s]\n",
      "100%|██████████| 25/25 [00:05<00:00,  4.63it/s]\n",
      "100%|██████████| 25/25 [00:05<00:00,  4.63it/s]\n",
      "100%|██████████| 25/25 [00:05<00:00,  4.63it/s]\n",
      "100%|██████████| 25/25 [00:05<00:00,  4.62it/s]\n",
      "100%|██████████| 25/25 [00:05<00:00,  4.61it/s]\n",
      "100%|██████████| 25/25 [00:05<00:00,  4.61it/s]\n",
      "100%|██████████| 25/25 [00:05<00:00,  4.62it/s]\n",
      "100%|██████████| 25/25 [00:05<00:00,  4.60it/s]\n",
      "100%|██████████| 25/25 [00:05<00:00,  4.62it/s]\n",
      "100%|██████████| 25/25 [00:05<00:00,  4.63it/s]\n",
      "100%|██████████| 25/25 [00:05<00:00,  4.61it/s]\n",
      "100%|██████████| 25/25 [00:05<00:00,  4.63it/s]\n",
      "100%|██████████| 25/25 [00:05<00:00,  4.63it/s]\n",
      "100%|██████████| 25/25 [00:05<00:00,  4.59it/s]\n",
      "100%|██████████| 25/25 [00:05<00:00,  4.64it/s]\n"
     ]
    }
   ],
   "source": [
    "results = {}\n",
    "generator = torch.Generator().manual_seed(42)\n",
    "for img in images:\n",
    "    reconstructed = diffusion_pipeline(prompt='', image=img, strength=0.5, generator=generator, output_type='pt').images[0]\n",
    "    padded = torch.nn.functional.pad(reconstructed, (0,0,1,3), \"constant\", 0)\n",
    "    original_img = to_tensor(img).to(\"cuda\")\n",
    "    mse = mse_loss(padded, original_img)\n",
    "    results[img.filename.split('/')[1]] = mse.item()"
   ]
  },
  {
   "cell_type": "code",
   "execution_count": 6,
   "metadata": {},
   "outputs": [
    {
     "data": {
      "text/plain": [
       "{'rendering_1.0_0.png': 0.02181563898921013,\n",
       " 'rendering_1.0_1.png': 0.016872664913535118,\n",
       " 'rendering_1.0_2.png': 0.016252512112259865,\n",
       " 'rendering_1.0_3.png': 0.01090245135128498,\n",
       " 'rendering_1.0_4.png': 0.01635332964360714,\n",
       " 'rendering_1.1_0.png': 0.022132404148578644,\n",
       " 'rendering_1.1_1.png': 0.017927592620253563,\n",
       " 'rendering_1.1_2.png': 0.016170838847756386,\n",
       " 'rendering_1.1_3.png': 0.011726079508662224,\n",
       " 'rendering_1.1_4.png': 0.016623998060822487,\n",
       " 'rendering_1.2_0.png': 0.022527087479829788,\n",
       " 'rendering_1.2_1.png': 0.017826566472649574,\n",
       " 'rendering_1.2_2.png': 0.01602393016219139,\n",
       " 'rendering_1.2_3.png': 0.011837710626423359,\n",
       " 'rendering_1.2_4.png': 0.0163355004042387,\n",
       " 'rendering_1.3_0.png': 0.022044001147150993,\n",
       " 'rendering_1.3_1.png': 0.016196241602301598,\n",
       " 'rendering_1.3_2.png': 0.016354553401470184,\n",
       " 'rendering_1.3_3.png': 0.011651843786239624,\n",
       " 'rendering_1.3_4.png': 0.016746925190091133,\n",
       " 'rendering_1.4_0.png': 0.022482460364699364,\n",
       " 'rendering_1.4_1.png': 0.016569247469305992,\n",
       " 'rendering_1.4_2.png': 0.01582426019012928,\n",
       " 'rendering_1.4_3.png': 0.011385970748960972,\n",
       " 'rendering_1.4_4.png': 0.016415387392044067,\n",
       " 'rendering_1.5_0.png': 0.023204118013381958,\n",
       " 'rendering_1.5_1.png': 0.018681367859244347,\n",
       " 'rendering_1.5_2.png': 0.015883740037679672,\n",
       " 'rendering_1.5_3.png': 0.011449815705418587,\n",
       " 'rendering_1.5_4.png': 0.01733938790857792,\n",
       " 'rendering_1.6_0.png': 0.021611563861370087,\n",
       " 'rendering_1.6_1.png': 0.018360022455453873,\n",
       " 'rendering_1.6_2.png': 0.016856232658028603,\n",
       " 'rendering_1.6_3.png': 0.011490724049508572,\n",
       " 'rendering_1.6_4.png': 0.016868790611624718,\n",
       " 'rendering_1.7_0.png': 0.02292836271226406,\n",
       " 'rendering_1.7_1.png': 0.019069788977503777,\n",
       " 'rendering_1.7_2.png': 0.017197901383042336,\n",
       " 'rendering_1.7_3.png': 0.01202443614602089,\n",
       " 'rendering_1.7_4.png': 0.017215032130479813,\n",
       " 'rendering_1.8_0.png': 0.02221568115055561,\n",
       " 'rendering_1.8_1.png': 0.01819329708814621,\n",
       " 'rendering_1.8_2.png': 0.016479207202792168,\n",
       " 'rendering_1.8_3.png': 0.011875756084918976,\n",
       " 'rendering_1.8_4.png': 0.016732249408960342,\n",
       " 'rendering_1.9_0.png': 0.02266145497560501,\n",
       " 'rendering_1.9_1.png': 0.019550306722521782,\n",
       " 'rendering_1.9_2.png': 0.01568673923611641,\n",
       " 'rendering_1.9_3.png': 0.012328092940151691,\n",
       " 'rendering_1.9_4.png': 0.017953675240278244,\n",
       " 'rendering_2.0_0.png': 0.022595778107643127,\n",
       " 'rendering_2.0_1.png': 0.019102269783616066,\n",
       " 'rendering_2.0_2.png': 0.01618111878633499,\n",
       " 'rendering_2.0_3.png': 0.012216429226100445,\n",
       " 'rendering_2.0_4.png': 0.017802517861127853,\n",
       " 'rendering_2.1_0.png': 0.022254643961787224,\n",
       " 'rendering_2.1_1.png': 0.019099559634923935,\n",
       " 'rendering_2.1_2.png': 0.016036545857787132,\n",
       " 'rendering_2.1_3.png': 0.012703951448202133,\n",
       " 'rendering_2.1_4.png': 0.01750984787940979,\n",
       " 'rendering_2.2_0.png': 0.022958576679229736,\n",
       " 'rendering_2.2_1.png': 0.018182089552283287,\n",
       " 'rendering_2.2_2.png': 0.015642385929822922,\n",
       " 'rendering_2.2_3.png': 0.012610030360519886,\n",
       " 'rendering_2.2_4.png': 0.016998277977108955,\n",
       " 'rendering_2.3_0.png': 0.021900098770856857,\n",
       " 'rendering_2.3_1.png': 0.019589895382523537,\n",
       " 'rendering_2.3_2.png': 0.017024097964167595,\n",
       " 'rendering_2.3_3.png': 0.012273591943085194,\n",
       " 'rendering_2.3_4.png': 0.016986418515443802,\n",
       " 'rendering_2.4_0.png': 0.02337423339486122,\n",
       " 'rendering_2.4_1.png': 0.01844755932688713,\n",
       " 'rendering_2.4_2.png': 0.016433831304311752,\n",
       " 'rendering_2.4_3.png': 0.014066560193896294,\n",
       " 'rendering_2.4_4.png': 0.018731657415628433,\n",
       " 'rendering_2.5_0.png': 0.021481242030858994,\n",
       " 'rendering_2.5_1.png': 0.019163182005286217,\n",
       " 'rendering_2.5_2.png': 0.016548534855246544,\n",
       " 'rendering_2.5_3.png': 0.01240046788007021,\n",
       " 'rendering_2.5_4.png': 0.017841249704360962,\n",
       " 'rendering_2.6_0.png': 0.02217705361545086,\n",
       " 'rendering_2.6_1.png': 0.020043998956680298,\n",
       " 'rendering_2.6_2.png': 0.016589606180787086,\n",
       " 'rendering_2.6_3.png': 0.012354177422821522,\n",
       " 'rendering_2.6_4.png': 0.01724569872021675,\n",
       " 'rendering_2.7_0.png': 0.022102585062384605,\n",
       " 'rendering_2.7_1.png': 0.018533337861299515,\n",
       " 'rendering_2.7_2.png': 0.01765274628996849,\n",
       " 'rendering_2.7_3.png': 0.015188765712082386,\n",
       " 'rendering_2.7_4.png': 0.01812601275742054,\n",
       " 'rendering_2.8_0.png': 0.022586487233638763,\n",
       " 'rendering_2.8_1.png': 0.017541397362947464,\n",
       " 'rendering_2.8_2.png': 0.017421353608369827,\n",
       " 'rendering_2.8_3.png': 0.015584533102810383,\n",
       " 'rendering_2.8_4.png': 0.018542276695370674,\n",
       " 'rendering_2.9_0.png': 0.021305540576577187,\n",
       " 'rendering_2.9_1.png': 0.019472012296319008,\n",
       " 'rendering_2.9_2.png': 0.016868578270077705,\n",
       " 'rendering_2.9_3.png': 0.012720700353384018,\n",
       " 'rendering_2.9_4.png': 0.017932265996932983,\n",
       " 'rendering_3.0_0.png': 0.0228789784014225,\n",
       " 'rendering_3.0_1.png': 0.01819494552910328,\n",
       " 'rendering_3.0_2.png': 0.017338182777166367,\n",
       " 'rendering_3.0_3.png': 0.014900543726980686,\n",
       " 'rendering_3.0_4.png': 0.017192641273140907,\n",
       " 'rendering_3.1_0.png': 0.021642273291945457,\n",
       " 'rendering_3.1_1.png': 0.018822675570845604,\n",
       " 'rendering_3.1_2.png': 0.016210122033953667,\n",
       " 'rendering_3.1_3.png': 0.013002902269363403,\n",
       " 'rendering_3.1_4.png': 0.017540790140628815,\n",
       " 'rendering_3.2_0.png': 0.02248632349073887,\n",
       " 'rendering_3.2_1.png': 0.01895674131810665,\n",
       " 'rendering_3.2_2.png': 0.016552316024899483,\n",
       " 'rendering_3.2_3.png': 0.013782287947833538,\n",
       " 'rendering_3.2_4.png': 0.019070804119110107,\n",
       " 'rendering_3.3_0.png': 0.02245514653623104,\n",
       " 'rendering_3.3_1.png': 0.01900213211774826,\n",
       " 'rendering_3.3_2.png': 0.016530344262719154,\n",
       " 'rendering_3.3_3.png': 0.014139060862362385,\n",
       " 'rendering_3.3_4.png': 0.018318671733140945,\n",
       " 'rendering_3.4_0.png': 0.021899420768022537,\n",
       " 'rendering_3.4_1.png': 0.018749035894870758,\n",
       " 'rendering_3.4_2.png': 0.016525452956557274,\n",
       " 'rendering_3.4_3.png': 0.014994663186371326,\n",
       " 'rendering_3.4_4.png': 0.018494589254260063}"
      ]
     },
     "execution_count": 6,
     "metadata": {},
     "output_type": "execute_result"
    }
   ],
   "source": [
    "results"
   ]
  },
  {
   "cell_type": "code",
   "execution_count": 7,
   "metadata": {},
   "outputs": [],
   "source": [
    "# save results to yaml file\n",
    "# Define the path to the YAML file\n",
    "yaml_file = \"results_same_generator.yaml\"\n",
    "\n",
    "# Save the results dictionary to the YAML file\n",
    "with open(yaml_file, \"w\") as file:\n",
    "    yaml.dump(results, file)\n",
    "\n"
   ]
  },
  {
   "cell_type": "code",
   "execution_count": null,
   "metadata": {},
   "outputs": [],
   "source": [
    "# open results file\n",
    "with open(\"results.yaml\", \"r\") as file:\n",
    "    results = yaml.load(file, Loader=yaml.FullLoader)"
   ]
  },
  {
   "cell_type": "code",
   "execution_count": null,
   "metadata": {},
   "outputs": [],
   "source": [
    "results"
   ]
  },
  {
   "cell_type": "code",
   "execution_count": null,
   "metadata": {},
   "outputs": [],
   "source": [
    "grouped_results = {}\n",
    "for key in results.keys():\n",
    "    depth_scale = key.split(\"_\")[1]\n",
    "    if depth_scale not in grouped_results:\n",
    "        grouped_results[depth_scale] = []\n",
    "    grouped_results[depth_scale].append((int(key.split(\"_\")[2].split(\".\")[0]), results[key]))\n",
    "grouped_results"
   ]
  },
  {
   "cell_type": "code",
   "execution_count": null,
   "metadata": {},
   "outputs": [],
   "source": [
    "# get the average mse for each depth scale\n",
    "average_results = {}\n",
    "for key in grouped_results.keys():\n",
    "    average_results[key] = sum([x[1] for x in grouped_results[key]]) / len(grouped_results[key])\n",
    "average_results"
   ]
  },
  {
   "cell_type": "code",
   "execution_count": null,
   "metadata": {},
   "outputs": [],
   "source": [
    "# get min max from average results\n",
    "min_key = min(average_results, key=average_results.get)\n",
    "max_key = max(average_results, key=average_results.get)\n",
    "min_key, average_results[min_key], max_key, average_results[max_key]"
   ]
  },
  {
   "cell_type": "code",
   "execution_count": null,
   "metadata": {},
   "outputs": [],
   "source": [
    "# filter out the depth_scales between 1.0 and 1.6 and compute the min max from average results\n",
    "filtered_results = {key: value for key, value in average_results.items() if not 1.0 <= float(key) <= 1.6}\n",
    "min_key = min(filtered_results, key=filtered_results.get)\n",
    "max_key = max(filtered_results, key=filtered_results.get)\n",
    "min_key, filtered_results[min_key], max_key, filtered_results[max_key]\n"
   ]
  },
  {
   "cell_type": "code",
   "execution_count": null,
   "metadata": {},
   "outputs": [],
   "source": [
    "new_results = {}\n",
    "views = range(5)\n",
    "for view in views:\n",
    "    view_results = {depth: views_mse[view][1] for depth, views_mse in grouped_results.items()}\n",
    "    filtered_view_results = {key: value for key, value in view_results.items() if not 1.0 <= float(key) <= 1.6}\n",
    "    min_key = min(filtered_view_results, key=filtered_view_results.get)\n",
    "    max_key = max(filtered_view_results, key=filtered_view_results.get)\n",
    "    min_key, filtered_view_results[min_key], max_key, filtered_view_results[max_key]\n",
    "    new_results[view] = {\"min\": (min_key, filtered_view_results[min_key]), \"max\": (max_key, filtered_view_results[max_key])}\n",
    "new_results\n",
    "# view_results = {depth: views_mse[view][1] for depth, views_mse in grouped_results.items()}\n",
    "# view_results"
   ]
  },
  {
   "cell_type": "code",
   "execution_count": null,
   "metadata": {},
   "outputs": [],
   "source": []
  },
  {
   "cell_type": "code",
   "execution_count": null,
   "metadata": {},
   "outputs": [],
   "source": [
    "# get min max mse for view 0 (filter out the depth_scales between 1.0 and 1.6)\n",
    "filtered_view_results = {key: value for key, value in view_results.items() if not 1.0 <= float(key) <= 1.6}\n",
    "min_key = min(filtered_view_results, key=filtered_view_results.get)\n",
    "max_key = max(filtered_view_results, key=filtered_view_results.get)\n",
    "min_key, filtered_view_results[min_key], max_key, filtered_view_results[max_key]"
   ]
  },
  {
   "cell_type": "code",
   "execution_count": null,
   "metadata": {},
   "outputs": [],
   "source": []
  }
 ],
 "metadata": {
  "kernelspec": {
   "display_name": "gaussian-editor",
   "language": "python",
   "name": "python3"
  },
  "language_info": {
   "codemirror_mode": {
    "name": "ipython",
    "version": 3
   },
   "file_extension": ".py",
   "mimetype": "text/x-python",
   "name": "python",
   "nbconvert_exporter": "python",
   "pygments_lexer": "ipython3",
   "version": "3.8.18"
  }
 },
 "nbformat": 4,
 "nbformat_minor": 2
}
