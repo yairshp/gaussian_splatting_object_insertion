{
 "cells": [
  {
   "cell_type": "code",
   "execution_count": 1,
   "metadata": {},
   "outputs": [],
   "source": [
    "import os\n",
    "\n",
    "os.environ[\"CUDA_VISIBLE_DEVICES\"] = \"7\""
   ]
  },
  {
   "cell_type": "code",
   "execution_count": 5,
   "metadata": {},
   "outputs": [],
   "source": [
    "import yaml\n",
    "import torch\n",
    "from torch.nn.functional import mse_loss\n",
    "from torchvision.transforms.functional import to_pil_image, to_tensor\n",
    "from diffusers import AutoencoderKL, StableDiffusionImg2ImgPipeline\n",
    "from PIL import Image"
   ]
  },
  {
   "cell_type": "code",
   "execution_count": null,
   "metadata": {},
   "outputs": [],
   "source": [
    "model_id = \"stabilityai/stable-diffusion-2-1\"\n",
    "diffusion_pipeline = StableDiffusionImg2ImgPipeline.from_pretrained(model_id, torch_dtype=torch.float16).to(\"cuda\")"
   ]
  },
  {
   "cell_type": "code",
   "execution_count": null,
   "metadata": {},
   "outputs": [],
   "source": [
    "# get list of all images in src/outputs folder\n",
    "images = [Image.open(f\"outputs/{f}\") for f in os.listdir(\"outputs\") if f.endswith(\".png\")]"
   ]
  },
  {
   "cell_type": "code",
   "execution_count": null,
   "metadata": {},
   "outputs": [],
   "source": [
    "img = images[0]"
   ]
  },
  {
   "cell_type": "code",
   "execution_count": null,
   "metadata": {},
   "outputs": [],
   "source": [
    "results = {}\n",
    "for img in images:\n",
    "    reconstructed = diffusion_pipeline(prompt='', image=img, strength=0.5, output_type='pt').images[0]\n",
    "    padded = torch.nn.functional.pad(reconstructed, (0,0,1,3), \"constant\", 0)\n",
    "    original_img = to_tensor(img).to(\"cuda\")\n",
    "    mse = mse_loss(padded, original_img)\n",
    "    results[img.filename.split('/')[1]] = mse.item()"
   ]
  },
  {
   "cell_type": "code",
   "execution_count": null,
   "metadata": {},
   "outputs": [],
   "source": [
    "results"
   ]
  },
  {
   "cell_type": "code",
   "execution_count": null,
   "metadata": {},
   "outputs": [],
   "source": [
    "# save results to yaml file\n",
    "# Define the path to the YAML file\n",
    "yaml_file = \"results.yaml\"\n",
    "\n",
    "# Save the results dictionary to the YAML file\n",
    "with open(yaml_file, \"w\") as file:\n",
    "    yaml.dump(results, file)\n",
    "\n"
   ]
  },
  {
   "cell_type": "code",
   "execution_count": 6,
   "metadata": {},
   "outputs": [],
   "source": [
    "# open results file\n",
    "with open(\"results.yaml\", \"r\") as file:\n",
    "    results = yaml.load(file, Loader=yaml.FullLoader)"
   ]
  },
  {
   "cell_type": "code",
   "execution_count": 7,
   "metadata": {},
   "outputs": [
    {
     "data": {
      "text/plain": [
       "{'rendering_1.0_0.png': 0.023501386865973473,\n",
       " 'rendering_1.0_1.png': 0.017078058794140816,\n",
       " 'rendering_1.0_2.png': 0.01573318801820278,\n",
       " 'rendering_1.0_3.png': 0.011470600962638855,\n",
       " 'rendering_1.0_4.png': 0.01619005762040615,\n",
       " 'rendering_1.1_0.png': 0.022632276639342308,\n",
       " 'rendering_1.1_1.png': 0.016255248337984085,\n",
       " 'rendering_1.1_2.png': 0.01616375520825386,\n",
       " 'rendering_1.1_3.png': 0.01223822496831417,\n",
       " 'rendering_1.1_4.png': 0.017169566825032234,\n",
       " 'rendering_1.2_0.png': 0.023052267730236053,\n",
       " 'rendering_1.2_1.png': 0.017333192750811577,\n",
       " 'rendering_1.2_2.png': 0.016685746610164642,\n",
       " 'rendering_1.2_3.png': 0.011917307041585445,\n",
       " 'rendering_1.2_4.png': 0.016309933736920357,\n",
       " 'rendering_1.3_0.png': 0.020808817818760872,\n",
       " 'rendering_1.3_1.png': 0.01759742759168148,\n",
       " 'rendering_1.3_2.png': 0.01646585948765278,\n",
       " 'rendering_1.3_3.png': 0.011123986914753914,\n",
       " 'rendering_1.3_4.png': 0.017001092433929443,\n",
       " 'rendering_1.4_0.png': 0.022052180022001266,\n",
       " 'rendering_1.4_1.png': 0.017159776762127876,\n",
       " 'rendering_1.4_2.png': 0.016558591276407242,\n",
       " 'rendering_1.4_3.png': 0.011311931535601616,\n",
       " 'rendering_1.4_4.png': 0.01622208207845688,\n",
       " 'rendering_1.5_0.png': 0.023108024150133133,\n",
       " 'rendering_1.5_1.png': 0.019399341195821762,\n",
       " 'rendering_1.5_2.png': 0.01641518995165825,\n",
       " 'rendering_1.5_3.png': 0.01199786365032196,\n",
       " 'rendering_1.5_4.png': 0.01671360619366169,\n",
       " 'rendering_1.6_0.png': 0.022875679656863213,\n",
       " 'rendering_1.6_1.png': 0.017805570736527443,\n",
       " 'rendering_1.6_2.png': 0.016878847032785416,\n",
       " 'rendering_1.6_3.png': 0.01203127484768629,\n",
       " 'rendering_1.6_4.png': 0.01623099483549595,\n",
       " 'rendering_1.7_0.png': 0.023609891533851624,\n",
       " 'rendering_1.7_1.png': 0.01876184530556202,\n",
       " 'rendering_1.7_2.png': 0.01680818758904934,\n",
       " 'rendering_1.7_3.png': 0.01254537794739008,\n",
       " 'rendering_1.7_4.png': 0.017247740179300308,\n",
       " 'rendering_1.8_0.png': 0.021749045699834824,\n",
       " 'rendering_1.8_1.png': 0.018493015319108963,\n",
       " 'rendering_1.8_2.png': 0.017883596941828728,\n",
       " 'rendering_1.8_3.png': 0.011905073188245296,\n",
       " 'rendering_1.8_4.png': 0.016560714691877365,\n",
       " 'rendering_1.9_0.png': 0.022734198719263077,\n",
       " 'rendering_1.9_1.png': 0.018667547032237053,\n",
       " 'rendering_1.9_2.png': 0.0168219655752182,\n",
       " 'rendering_1.9_3.png': 0.012106850743293762,\n",
       " 'rendering_1.9_4.png': 0.0168959628790617,\n",
       " 'rendering_2.0_0.png': 0.023238927125930786,\n",
       " 'rendering_2.0_1.png': 0.018707280978560448,\n",
       " 'rendering_2.0_2.png': 0.01649080403149128,\n",
       " 'rendering_2.0_3.png': 0.012132629752159119,\n",
       " 'rendering_2.0_4.png': 0.01777520589530468,\n",
       " 'rendering_2.1_0.png': 0.02225068211555481,\n",
       " 'rendering_2.1_1.png': 0.01877666637301445,\n",
       " 'rendering_2.1_2.png': 0.01657368801534176,\n",
       " 'rendering_2.1_3.png': 0.012132524512708187,\n",
       " 'rendering_2.1_4.png': 0.017502253875136375,\n",
       " 'rendering_2.2_0.png': 0.02345629595220089,\n",
       " 'rendering_2.2_1.png': 0.018585534766316414,\n",
       " 'rendering_2.2_2.png': 0.01592194102704525,\n",
       " 'rendering_2.2_3.png': 0.012824220582842827,\n",
       " 'rendering_2.2_4.png': 0.01799789071083069,\n",
       " 'rendering_2.3_0.png': 0.021803241223096848,\n",
       " 'rendering_2.3_1.png': 0.01850968599319458,\n",
       " 'rendering_2.3_2.png': 0.01732761226594448,\n",
       " 'rendering_2.3_3.png': 0.012341387569904327,\n",
       " 'rendering_2.3_4.png': 0.01686754636466503,\n",
       " 'rendering_2.4_0.png': 0.022776158526539803,\n",
       " 'rendering_2.4_1.png': 0.018196118995547295,\n",
       " 'rendering_2.4_2.png': 0.015773028135299683,\n",
       " 'rendering_2.4_3.png': 0.013601533137261868,\n",
       " 'rendering_2.4_4.png': 0.01795114576816559,\n",
       " 'rendering_2.5_0.png': 0.021778207272291183,\n",
       " 'rendering_2.5_1.png': 0.019490212202072144,\n",
       " 'rendering_2.5_2.png': 0.01691361330449581,\n",
       " 'rendering_2.5_3.png': 0.012201657518744469,\n",
       " 'rendering_2.5_4.png': 0.018299786373972893,\n",
       " 'rendering_2.6_0.png': 0.022870155051350594,\n",
       " 'rendering_2.6_1.png': 0.01931293122470379,\n",
       " 'rendering_2.6_2.png': 0.017011675983667374,\n",
       " 'rendering_2.6_3.png': 0.012450446374714375,\n",
       " 'rendering_2.6_4.png': 0.017176847904920578,\n",
       " 'rendering_2.7_0.png': 0.022524721920490265,\n",
       " 'rendering_2.7_1.png': 0.018732544034719467,\n",
       " 'rendering_2.7_2.png': 0.01757192052900791,\n",
       " 'rendering_2.7_3.png': 0.014759899117052555,\n",
       " 'rendering_2.7_4.png': 0.019004175439476967,\n",
       " 'rendering_2.8_0.png': 0.02280214987695217,\n",
       " 'rendering_2.8_1.png': 0.017871089279651642,\n",
       " 'rendering_2.8_2.png': 0.017051590606570244,\n",
       " 'rendering_2.8_3.png': 0.014883148483932018,\n",
       " 'rendering_2.8_4.png': 0.018930044025182724,\n",
       " 'rendering_2.9_0.png': 0.02263292483985424,\n",
       " 'rendering_2.9_1.png': 0.01963435672223568,\n",
       " 'rendering_2.9_2.png': 0.016157403588294983,\n",
       " 'rendering_2.9_3.png': 0.012288037687540054,\n",
       " 'rendering_2.9_4.png': 0.017077041789889336,\n",
       " 'rendering_3.0_0.png': 0.021426605060696602,\n",
       " 'rendering_3.0_1.png': 0.018357880413532257,\n",
       " 'rendering_3.0_2.png': 0.016957713291049004,\n",
       " 'rendering_3.0_3.png': 0.0144097451120615,\n",
       " 'rendering_3.0_4.png': 0.017093593254685402,\n",
       " 'rendering_3.1_0.png': 0.02130507118999958,\n",
       " 'rendering_3.1_1.png': 0.019678980112075806,\n",
       " 'rendering_3.1_2.png': 0.01724262163043022,\n",
       " 'rendering_3.1_3.png': 0.01247883215546608,\n",
       " 'rendering_3.1_4.png': 0.018303094431757927,\n",
       " 'rendering_3.2_0.png': 0.021864477545022964,\n",
       " 'rendering_3.2_1.png': 0.019427811726927757,\n",
       " 'rendering_3.2_2.png': 0.015939095988869667,\n",
       " 'rendering_3.2_3.png': 0.014245542697608471,\n",
       " 'rendering_3.2_4.png': 0.018269779160618782,\n",
       " 'rendering_3.3_0.png': 0.02198752388358116,\n",
       " 'rendering_3.3_1.png': 0.01939212903380394,\n",
       " 'rendering_3.3_2.png': 0.016788015142083168,\n",
       " 'rendering_3.3_3.png': 0.014005535282194614,\n",
       " 'rendering_3.3_4.png': 0.01845795288681984,\n",
       " 'rendering_3.4_0.png': 0.022187218070030212,\n",
       " 'rendering_3.4_1.png': 0.01925497315824032,\n",
       " 'rendering_3.4_2.png': 0.015966203063726425,\n",
       " 'rendering_3.4_3.png': 0.014629513025283813,\n",
       " 'rendering_3.4_4.png': 0.018004929646849632}"
      ]
     },
     "execution_count": 7,
     "metadata": {},
     "output_type": "execute_result"
    }
   ],
   "source": [
    "results"
   ]
  },
  {
   "cell_type": "code",
   "execution_count": 11,
   "metadata": {},
   "outputs": [
    {
     "data": {
      "text/plain": [
       "{'1.0': [(0, 0.023501386865973473),\n",
       "  (1, 0.017078058794140816),\n",
       "  (2, 0.01573318801820278),\n",
       "  (3, 0.011470600962638855),\n",
       "  (4, 0.01619005762040615)],\n",
       " '1.1': [(0, 0.022632276639342308),\n",
       "  (1, 0.016255248337984085),\n",
       "  (2, 0.01616375520825386),\n",
       "  (3, 0.01223822496831417),\n",
       "  (4, 0.017169566825032234)],\n",
       " '1.2': [(0, 0.023052267730236053),\n",
       "  (1, 0.017333192750811577),\n",
       "  (2, 0.016685746610164642),\n",
       "  (3, 0.011917307041585445),\n",
       "  (4, 0.016309933736920357)],\n",
       " '1.3': [(0, 0.020808817818760872),\n",
       "  (1, 0.01759742759168148),\n",
       "  (2, 0.01646585948765278),\n",
       "  (3, 0.011123986914753914),\n",
       "  (4, 0.017001092433929443)],\n",
       " '1.4': [(0, 0.022052180022001266),\n",
       "  (1, 0.017159776762127876),\n",
       "  (2, 0.016558591276407242),\n",
       "  (3, 0.011311931535601616),\n",
       "  (4, 0.01622208207845688)],\n",
       " '1.5': [(0, 0.023108024150133133),\n",
       "  (1, 0.019399341195821762),\n",
       "  (2, 0.01641518995165825),\n",
       "  (3, 0.01199786365032196),\n",
       "  (4, 0.01671360619366169)],\n",
       " '1.6': [(0, 0.022875679656863213),\n",
       "  (1, 0.017805570736527443),\n",
       "  (2, 0.016878847032785416),\n",
       "  (3, 0.01203127484768629),\n",
       "  (4, 0.01623099483549595)],\n",
       " '1.7': [(0, 0.023609891533851624),\n",
       "  (1, 0.01876184530556202),\n",
       "  (2, 0.01680818758904934),\n",
       "  (3, 0.01254537794739008),\n",
       "  (4, 0.017247740179300308)],\n",
       " '1.8': [(0, 0.021749045699834824),\n",
       "  (1, 0.018493015319108963),\n",
       "  (2, 0.017883596941828728),\n",
       "  (3, 0.011905073188245296),\n",
       "  (4, 0.016560714691877365)],\n",
       " '1.9': [(0, 0.022734198719263077),\n",
       "  (1, 0.018667547032237053),\n",
       "  (2, 0.0168219655752182),\n",
       "  (3, 0.012106850743293762),\n",
       "  (4, 0.0168959628790617)],\n",
       " '2.0': [(0, 0.023238927125930786),\n",
       "  (1, 0.018707280978560448),\n",
       "  (2, 0.01649080403149128),\n",
       "  (3, 0.012132629752159119),\n",
       "  (4, 0.01777520589530468)],\n",
       " '2.1': [(0, 0.02225068211555481),\n",
       "  (1, 0.01877666637301445),\n",
       "  (2, 0.01657368801534176),\n",
       "  (3, 0.012132524512708187),\n",
       "  (4, 0.017502253875136375)],\n",
       " '2.2': [(0, 0.02345629595220089),\n",
       "  (1, 0.018585534766316414),\n",
       "  (2, 0.01592194102704525),\n",
       "  (3, 0.012824220582842827),\n",
       "  (4, 0.01799789071083069)],\n",
       " '2.3': [(0, 0.021803241223096848),\n",
       "  (1, 0.01850968599319458),\n",
       "  (2, 0.01732761226594448),\n",
       "  (3, 0.012341387569904327),\n",
       "  (4, 0.01686754636466503)],\n",
       " '2.4': [(0, 0.022776158526539803),\n",
       "  (1, 0.018196118995547295),\n",
       "  (2, 0.015773028135299683),\n",
       "  (3, 0.013601533137261868),\n",
       "  (4, 0.01795114576816559)],\n",
       " '2.5': [(0, 0.021778207272291183),\n",
       "  (1, 0.019490212202072144),\n",
       "  (2, 0.01691361330449581),\n",
       "  (3, 0.012201657518744469),\n",
       "  (4, 0.018299786373972893)],\n",
       " '2.6': [(0, 0.022870155051350594),\n",
       "  (1, 0.01931293122470379),\n",
       "  (2, 0.017011675983667374),\n",
       "  (3, 0.012450446374714375),\n",
       "  (4, 0.017176847904920578)],\n",
       " '2.7': [(0, 0.022524721920490265),\n",
       "  (1, 0.018732544034719467),\n",
       "  (2, 0.01757192052900791),\n",
       "  (3, 0.014759899117052555),\n",
       "  (4, 0.019004175439476967)],\n",
       " '2.8': [(0, 0.02280214987695217),\n",
       "  (1, 0.017871089279651642),\n",
       "  (2, 0.017051590606570244),\n",
       "  (3, 0.014883148483932018),\n",
       "  (4, 0.018930044025182724)],\n",
       " '2.9': [(0, 0.02263292483985424),\n",
       "  (1, 0.01963435672223568),\n",
       "  (2, 0.016157403588294983),\n",
       "  (3, 0.012288037687540054),\n",
       "  (4, 0.017077041789889336)],\n",
       " '3.0': [(0, 0.021426605060696602),\n",
       "  (1, 0.018357880413532257),\n",
       "  (2, 0.016957713291049004),\n",
       "  (3, 0.0144097451120615),\n",
       "  (4, 0.017093593254685402)],\n",
       " '3.1': [(0, 0.02130507118999958),\n",
       "  (1, 0.019678980112075806),\n",
       "  (2, 0.01724262163043022),\n",
       "  (3, 0.01247883215546608),\n",
       "  (4, 0.018303094431757927)],\n",
       " '3.2': [(0, 0.021864477545022964),\n",
       "  (1, 0.019427811726927757),\n",
       "  (2, 0.015939095988869667),\n",
       "  (3, 0.014245542697608471),\n",
       "  (4, 0.018269779160618782)],\n",
       " '3.3': [(0, 0.02198752388358116),\n",
       "  (1, 0.01939212903380394),\n",
       "  (2, 0.016788015142083168),\n",
       "  (3, 0.014005535282194614),\n",
       "  (4, 0.01845795288681984)],\n",
       " '3.4': [(0, 0.022187218070030212),\n",
       "  (1, 0.01925497315824032),\n",
       "  (2, 0.015966203063726425),\n",
       "  (3, 0.014629513025283813),\n",
       "  (4, 0.018004929646849632)]}"
      ]
     },
     "execution_count": 11,
     "metadata": {},
     "output_type": "execute_result"
    }
   ],
   "source": [
    "grouped_results = {}\n",
    "for key in results.keys():\n",
    "    depth_scale = key.split(\"_\")[1]\n",
    "    if depth_scale not in grouped_results:\n",
    "        grouped_results[depth_scale] = []\n",
    "    grouped_results[depth_scale].append((int(key.split(\"_\")[2].split(\".\")[0]), results[key]))\n",
    "grouped_results"
   ]
  },
  {
   "cell_type": "code",
   "execution_count": 12,
   "metadata": {},
   "outputs": [
    {
     "data": {
      "text/plain": [
       "{'1.0': 0.016794658452272414,\n",
       " '1.1': 0.016891814395785333,\n",
       " '1.2': 0.017059689573943614,\n",
       " '1.3': 0.0165994368493557,\n",
       " '1.4': 0.016660912334918974,\n",
       " '1.5': 0.01752680502831936,\n",
       " '1.6': 0.017164473421871662,\n",
       " '1.7': 0.017794608511030673,\n",
       " '1.8': 0.017318289168179034,\n",
       " '1.9': 0.01744530498981476,\n",
       " '2.0': 0.017668969556689264,\n",
       " '2.1': 0.017447162978351118,\n",
       " '2.2': 0.017757176607847213,\n",
       " '2.3': 0.017369894683361052,\n",
       " '2.4': 0.017659596912562848,\n",
       " '2.5': 0.0177366953343153,\n",
       " '2.6': 0.01776441130787134,\n",
       " '2.7': 0.018518652208149432,\n",
       " '2.8': 0.01830760445445776,\n",
       " '2.9': 0.017557952925562857,\n",
       " '3.0': 0.017649107426404954,\n",
       " '3.1': 0.017801719903945922,\n",
       " '3.2': 0.01794934142380953,\n",
       " '3.3': 0.018126231245696546,\n",
       " '3.4': 0.01800856739282608}"
      ]
     },
     "execution_count": 12,
     "metadata": {},
     "output_type": "execute_result"
    }
   ],
   "source": [
    "# get the average mse for each depth scale\n",
    "average_results = {}\n",
    "for key in grouped_results.keys():\n",
    "    average_results[key] = sum([x[1] for x in grouped_results[key]]) / len(grouped_results[key])\n",
    "average_results"
   ]
  },
  {
   "cell_type": "code",
   "execution_count": 13,
   "metadata": {},
   "outputs": [
    {
     "data": {
      "text/plain": [
       "('1.3', 0.0165994368493557, '2.7', 0.018518652208149432)"
      ]
     },
     "execution_count": 13,
     "metadata": {},
     "output_type": "execute_result"
    }
   ],
   "source": [
    "# get min max from average results\n",
    "min_key = min(average_results, key=average_results.get)\n",
    "max_key = max(average_results, key=average_results.get)\n",
    "min_key, average_results[min_key], max_key, average_results[max_key]"
   ]
  },
  {
   "cell_type": "code",
   "execution_count": 15,
   "metadata": {},
   "outputs": [
    {
     "data": {
      "text/plain": [
       "('1.8', 0.017318289168179034, '2.7', 0.018518652208149432)"
      ]
     },
     "execution_count": 15,
     "metadata": {},
     "output_type": "execute_result"
    }
   ],
   "source": [
    "# filter out the depth_scales between 1.0 and 1.6 and compute the min max from average results\n",
    "filtered_results = {key: value for key, value in average_results.items() if not 1.0 <= float(key) <= 1.6}\n",
    "min_key = min(filtered_results, key=filtered_results.get)\n",
    "max_key = max(filtered_results, key=filtered_results.get)\n",
    "min_key, filtered_results[min_key], max_key, filtered_results[max_key]\n"
   ]
  },
  {
   "cell_type": "code",
   "execution_count": 28,
   "metadata": {},
   "outputs": [
    {
     "data": {
      "text/plain": [
       "{0: {'min': ('3.1', 0.02130507118999958),\n",
       "  'max': ('1.7', 0.023609891533851624)},\n",
       " 1: {'min': ('2.8', 0.017871089279651642),\n",
       "  'max': ('3.1', 0.019678980112075806)},\n",
       " 2: {'min': ('2.4', 0.015773028135299683),\n",
       "  'max': ('1.8', 0.017883596941828728)},\n",
       " 3: {'min': ('1.8', 0.011905073188245296),\n",
       "  'max': ('2.8', 0.014883148483932018)},\n",
       " 4: {'min': ('1.8', 0.016560714691877365),\n",
       "  'max': ('2.7', 0.019004175439476967)}}"
      ]
     },
     "execution_count": 28,
     "metadata": {},
     "output_type": "execute_result"
    }
   ],
   "source": [
    "new_results = {}\n",
    "views = range(5)\n",
    "for view in views:\n",
    "    view_results = {depth: views_mse[view][1] for depth, views_mse in grouped_results.items()}\n",
    "    filtered_view_results = {key: value for key, value in view_results.items() if not 1.0 <= float(key) <= 1.6}\n",
    "    min_key = min(filtered_view_results, key=filtered_view_results.get)\n",
    "    max_key = max(filtered_view_results, key=filtered_view_results.get)\n",
    "    min_key, filtered_view_results[min_key], max_key, filtered_view_results[max_key]\n",
    "    new_results[view] = {\"min\": (min_key, filtered_view_results[min_key]), \"max\": (max_key, filtered_view_results[max_key])}\n",
    "new_results\n",
    "# view_results = {depth: views_mse[view][1] for depth, views_mse in grouped_results.items()}\n",
    "# view_results"
   ]
  },
  {
   "cell_type": "code",
   "execution_count": null,
   "metadata": {},
   "outputs": [],
   "source": []
  },
  {
   "cell_type": "code",
   "execution_count": 27,
   "metadata": {},
   "outputs": [
    {
     "data": {
      "text/plain": [
       "('1.8', 0.016560714691877365, '2.7', 0.019004175439476967)"
      ]
     },
     "execution_count": 27,
     "metadata": {},
     "output_type": "execute_result"
    }
   ],
   "source": [
    "# get min max mse for view 0 (filter out the depth_scales between 1.0 and 1.6)\n",
    "filtered_view_results = {key: value for key, value in view_results.items() if not 1.0 <= float(key) <= 1.6}\n",
    "min_key = min(filtered_view_results, key=filtered_view_results.get)\n",
    "max_key = max(filtered_view_results, key=filtered_view_results.get)\n",
    "min_key, filtered_view_results[min_key], max_key, filtered_view_results[max_key]"
   ]
  },
  {
   "cell_type": "code",
   "execution_count": null,
   "metadata": {},
   "outputs": [],
   "source": []
  }
 ],
 "metadata": {
  "kernelspec": {
   "display_name": "gaussian-editor",
   "language": "python",
   "name": "python3"
  },
  "language_info": {
   "codemirror_mode": {
    "name": "ipython",
    "version": 3
   },
   "file_extension": ".py",
   "mimetype": "text/x-python",
   "name": "python",
   "nbconvert_exporter": "python",
   "pygments_lexer": "ipython3",
   "version": "3.8.18"
  }
 },
 "nbformat": 4,
 "nbformat_minor": 2
}
